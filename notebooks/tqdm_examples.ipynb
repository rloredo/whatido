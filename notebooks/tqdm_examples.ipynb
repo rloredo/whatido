{
 "cells": [
  {
   "cell_type": "code",
   "execution_count": 1,
   "id": "bc89a696-0213-499f-89b6-95fb4bc83b08",
   "metadata": {},
   "outputs": [],
   "source": [
    "import time\n",
    "import pandas as pd\n",
    "from tqdm import tqdm"
   ]
  },
  {
   "cell_type": "markdown",
   "id": "b3141a77-f52b-455f-9f00-0c6993482dfb",
   "metadata": {},
   "source": [
    "## Simple usage\n",
    "\n",
    "Grab an iterable of any kind and wrap it around tqdm().\n",
    "Use that in a loop.\n",
    "\n",
    "Example:"
   ]
  },
  {
   "cell_type": "code",
   "execution_count": 2,
   "id": "10696f54-ac29-4f55-9e25-3f91bafe636f",
   "metadata": {},
   "outputs": [
    {
     "name": "stderr",
     "output_type": "stream",
     "text": [
      "100%|██████████████████████████████████████████████████████████████████████████████████████████████████| 9/9 [00:04<00:00,  1.98it/s]\n"
     ]
    }
   ],
   "source": [
    "#Simple usage\n",
    "for e in tqdm(range(1,10)):\n",
    "    time.sleep(0.5)"
   ]
  },
  {
   "cell_type": "code",
   "execution_count": 3,
   "id": "f47733a2-dfce-4f6e-9370-a5422cc5bb30",
   "metadata": {},
   "outputs": [
    {
     "name": "stderr",
     "output_type": "stream",
     "text": [
      "100%|██████████████████████████████████████████████████████████████████████████████████████████████████| 7/7 [00:02<00:00,  2.46it/s]\n"
     ]
    }
   ],
   "source": [
    "numbers = [1, 2, 3, 4, 5, 6, 7]\n",
    "for number in tqdm(numbers):\n",
    "    time.sleep(number*0.1)"
   ]
  },
  {
   "cell_type": "markdown",
   "id": "a1cd3ef4-27e5-4c7f-b812-599920de8657",
   "metadata": {},
   "source": [
    "## Pandas progress apply\n",
    "\n",
    "Call tqdm.pandas()  \n",
    "Use progress_apply() instead of apply\n",
    "\n",
    "Example:"
   ]
  },
  {
   "cell_type": "code",
   "execution_count": 4,
   "id": "52e9594f-ff07-4a94-b3e8-fb2047d85f60",
   "metadata": {},
   "outputs": [
    {
     "data": {
      "text/html": [
       "<div>\n",
       "<style scoped>\n",
       "    .dataframe tbody tr th:only-of-type {\n",
       "        vertical-align: middle;\n",
       "    }\n",
       "\n",
       "    .dataframe tbody tr th {\n",
       "        vertical-align: top;\n",
       "    }\n",
       "\n",
       "    .dataframe thead th {\n",
       "        text-align: right;\n",
       "    }\n",
       "</style>\n",
       "<table border=\"1\" class=\"dataframe\">\n",
       "  <thead>\n",
       "    <tr style=\"text-align: right;\">\n",
       "      <th></th>\n",
       "      <th>numbers</th>\n",
       "      <th>letters</th>\n",
       "    </tr>\n",
       "  </thead>\n",
       "  <tbody>\n",
       "    <tr>\n",
       "      <th>0</th>\n",
       "      <td>1</td>\n",
       "      <td>a</td>\n",
       "    </tr>\n",
       "    <tr>\n",
       "      <th>1</th>\n",
       "      <td>2</td>\n",
       "      <td>b</td>\n",
       "    </tr>\n",
       "    <tr>\n",
       "      <th>2</th>\n",
       "      <td>3</td>\n",
       "      <td>c</td>\n",
       "    </tr>\n",
       "    <tr>\n",
       "      <th>3</th>\n",
       "      <td>4</td>\n",
       "      <td>d</td>\n",
       "    </tr>\n",
       "    <tr>\n",
       "      <th>4</th>\n",
       "      <td>5</td>\n",
       "      <td>e</td>\n",
       "    </tr>\n",
       "  </tbody>\n",
       "</table>\n",
       "</div>"
      ],
      "text/plain": [
       "   numbers letters\n",
       "0        1       a\n",
       "1        2       b\n",
       "2        3       c\n",
       "3        4       d\n",
       "4        5       e"
      ]
     },
     "execution_count": 4,
     "metadata": {},
     "output_type": "execute_result"
    }
   ],
   "source": [
    "df = pd.DataFrame({'numbers':[1, 2, 3, 4, 5],\n",
    "                   'letters': ['a', 'b', 'c', 'd', 'e']})\n",
    "\n",
    "df"
   ]
  },
  {
   "cell_type": "code",
   "execution_count": 5,
   "id": "73beae9d-058f-4551-8fd8-1e2b099af18b",
   "metadata": {},
   "outputs": [
    {
     "name": "stderr",
     "output_type": "stream",
     "text": [
      "100%|███████████████████████████████████████████████████████████████████████████████████████████████| 5/5 [00:00<00:00, 10721.64it/s]\n"
     ]
    }
   ],
   "source": [
    "tqdm.pandas()\n",
    "df['exp_numbers'] = df.numbers.progress_apply(lambda x: x ** 2)"
   ]
  },
  {
   "cell_type": "code",
   "execution_count": 6,
   "id": "5baf1e21-5359-46bf-9ef7-bb5ed9675375",
   "metadata": {},
   "outputs": [
    {
     "data": {
      "text/html": [
       "<div>\n",
       "<style scoped>\n",
       "    .dataframe tbody tr th:only-of-type {\n",
       "        vertical-align: middle;\n",
       "    }\n",
       "\n",
       "    .dataframe tbody tr th {\n",
       "        vertical-align: top;\n",
       "    }\n",
       "\n",
       "    .dataframe thead th {\n",
       "        text-align: right;\n",
       "    }\n",
       "</style>\n",
       "<table border=\"1\" class=\"dataframe\">\n",
       "  <thead>\n",
       "    <tr style=\"text-align: right;\">\n",
       "      <th></th>\n",
       "      <th>numbers</th>\n",
       "      <th>letters</th>\n",
       "      <th>exp_numbers</th>\n",
       "    </tr>\n",
       "  </thead>\n",
       "  <tbody>\n",
       "    <tr>\n",
       "      <th>0</th>\n",
       "      <td>1</td>\n",
       "      <td>a</td>\n",
       "      <td>1</td>\n",
       "    </tr>\n",
       "    <tr>\n",
       "      <th>1</th>\n",
       "      <td>2</td>\n",
       "      <td>b</td>\n",
       "      <td>4</td>\n",
       "    </tr>\n",
       "    <tr>\n",
       "      <th>2</th>\n",
       "      <td>3</td>\n",
       "      <td>c</td>\n",
       "      <td>9</td>\n",
       "    </tr>\n",
       "    <tr>\n",
       "      <th>3</th>\n",
       "      <td>4</td>\n",
       "      <td>d</td>\n",
       "      <td>16</td>\n",
       "    </tr>\n",
       "    <tr>\n",
       "      <th>4</th>\n",
       "      <td>5</td>\n",
       "      <td>e</td>\n",
       "      <td>25</td>\n",
       "    </tr>\n",
       "  </tbody>\n",
       "</table>\n",
       "</div>"
      ],
      "text/plain": [
       "   numbers letters  exp_numbers\n",
       "0        1       a            1\n",
       "1        2       b            4\n",
       "2        3       c            9\n",
       "3        4       d           16\n",
       "4        5       e           25"
      ]
     },
     "execution_count": 6,
     "metadata": {},
     "output_type": "execute_result"
    }
   ],
   "source": [
    "df"
   ]
  },
  {
   "cell_type": "markdown",
   "id": "ea4e2bce-2260-45fc-a3b9-f0d0d5ae532a",
   "metadata": {},
   "source": [
    "## Multithreading\n",
    "\n",
    "For multithreading usage, if you use list comprehension, the function should update the progress bar at the end of each call.    \n",
    "\n",
    "For example:"
   ]
  },
  {
   "cell_type": "code",
   "execution_count": 7,
   "id": "2d8ac4f0-576e-4ce1-9539-e0cd477e6eaa",
   "metadata": {},
   "outputs": [],
   "source": [
    "import requests\n",
    "import concurrent"
   ]
  },
  {
   "cell_type": "code",
   "execution_count": 8,
   "id": "ef3da8c6-babc-4a36-a169-c637183c938d",
   "metadata": {},
   "outputs": [
    {
     "name": "stderr",
     "output_type": "stream",
     "text": [
      "100%|██████████████████████████████████████████████████████████████████████████████████████████████| 109/109 [00:02<00:00, 42.28it/s]\n"
     ]
    }
   ],
   "source": [
    "#Create a function that will parallelized\n",
    "#Add the tqdm update\n",
    "def request_pokemon(number:int, pbar) -> str:\n",
    "    response = requests.get(f'https://pokeapi.co/api/v2/pokemon/{number}')\n",
    "    pbar.update(1) #update pbar\n",
    "    return response.json().get('name')\n",
    "\n",
    "#Create the iterator\n",
    "numbers= range(1, 110)\n",
    "\n",
    "#Use tqdm with the len of iterator as total\n",
    "with tqdm(total=len(numbers)) as pbar:\n",
    "    #Set a threadpoool executor with 6 cores and run the function for the list of parameters\n",
    "    with concurrent.futures.ThreadPoolExecutor(max_workers=6) as executor:\n",
    "        res = [executor.submit(request_pokemon, number, pbar) for number in numbers] #List comprehension\n",
    "        concurrent.futures.wait(res)\n",
    "        pokemons_parallel = [r.result() for r in res] #Gather up the results in a list\n"
   ]
  },
  {
   "cell_type": "code",
   "execution_count": 9,
   "id": "21f80669-7714-4665-aa71-e7aae48b01f2",
   "metadata": {},
   "outputs": [
    {
     "name": "stdout",
     "output_type": "stream",
     "text": [
      "109\n",
      "metapod\n"
     ]
    }
   ],
   "source": [
    "print(len(pokemons_parallel))\n",
    "print(pokemons_parallel[10])"
   ]
  },
  {
   "cell_type": "markdown",
   "id": "f3b40945-580f-442d-b71c-0b797470971c",
   "metadata": {},
   "source": [
    "## Async\n",
    "\n",
    "If you don't use list comprehension, you don't need to change the code. Just wrap the iterator with tqdm().\n",
    "\n",
    "Example:"
   ]
  },
  {
   "cell_type": "code",
   "execution_count": 10,
   "id": "0156ccce-f757-4385-81bb-429ede7733f3",
   "metadata": {},
   "outputs": [
    {
     "name": "stderr",
     "output_type": "stream",
     "text": [
      "100%|██████████████████████████████████████████████████████████████████████████████████████████| 150/150 [00:00<00:00, 156581.78it/s]\n"
     ]
    }
   ],
   "source": [
    "import aiohttp\n",
    "import asyncio\n",
    "import nest_asyncio #Do this if you want to run it on JN\n",
    "nest_asyncio.apply()\n",
    "\n",
    "pokemons_async = []\n",
    "\n",
    "async def get_pokemon(session, url):\n",
    "    async with session.get(url) as resp:\n",
    "        pokemon = await resp.json()\n",
    "        return pokemon.get('name')\n",
    "\n",
    "async def main():\n",
    "    async with aiohttp.ClientSession() as session:\n",
    "        tasks = []\n",
    "        for number in tqdm(range(1, 151)):\n",
    "            url = f'https://pokeapi.co/api/v2/pokemon/{number}'\n",
    "            tasks.append(asyncio.ensure_future(get_pokemon(session, url)))\n",
    "        original_pokemon = await asyncio.gather(*tasks)\n",
    "        for pokemon in original_pokemon:\n",
    "            pokemons_async.append(pokemon)\n",
    "\n",
    "asyncio.run(main())"
   ]
  },
  {
   "cell_type": "code",
   "execution_count": 11,
   "id": "1e2f85e5-d910-49c8-a810-89298a114e91",
   "metadata": {},
   "outputs": [
    {
     "name": "stdout",
     "output_type": "stream",
     "text": [
      "150\n",
      "metapod\n"
     ]
    }
   ],
   "source": [
    "print(len(pokemons_async))\n",
    "print(pokemons_async[10])"
   ]
  }
 ],
 "metadata": {
  "kernelspec": {
   "display_name": "r39",
   "language": "python",
   "name": "r39"
  },
  "language_info": {
   "codemirror_mode": {
    "name": "ipython",
    "version": 3
   },
   "file_extension": ".py",
   "mimetype": "text/x-python",
   "name": "python",
   "nbconvert_exporter": "python",
   "pygments_lexer": "ipython3",
   "version": "3.9.9"
  }
 },
 "nbformat": 4,
 "nbformat_minor": 5
}
