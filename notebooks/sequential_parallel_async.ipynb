{
 "cells": [
  {
   "cell_type": "code",
   "execution_count": 1,
   "id": "fc323f6a-1010-4ef8-8861-fd09ab1fb99b",
   "metadata": {},
   "outputs": [],
   "source": [
    "import requests\n",
    "import concurrent\n",
    "\n",
    "import aiohttp\n",
    "import asyncio\n",
    "import nest_asyncio #Do this if you want to run it on JN\n",
    "nest_asyncio.apply()\n",
    "\n",
    "#Results may vary because of network issues. \n",
    "#Running this 100 times should give us a better statistics but ain't nobody got time for that"
   ]
  },
  {
   "cell_type": "code",
   "execution_count": 2,
   "id": "a18b61ed-bc0e-4552-81da-4b1fdd429281",
   "metadata": {},
   "outputs": [
    {
     "name": "stdout",
     "output_type": "stream",
     "text": [
      "150\n",
      "metapod\n",
      "CPU times: user 4.79 s, sys: 454 ms, total: 5.24 s\n",
      "Wall time: 19 s\n"
     ]
    }
   ],
   "source": [
    "%%time\n",
    "#Sequential processing - retrieve 150 pokemons\n",
    "\n",
    "pokemons_sequential = []\n",
    "\n",
    "#For 50 pokemons, run the request and append it to the list\n",
    "for number in range(1, 151):\n",
    "    pokemon_url = f'https://pokeapi.co/api/v2/pokemon/{number}'\n",
    "    response = requests.get(pokemon_url)\n",
    "    pokemons_sequential.append(response.json().get('name'))\n",
    "\n",
    "print(len(pokemons_sequential))\n",
    "print(pokemons_sequential[10])"
   ]
  },
  {
   "cell_type": "code",
   "execution_count": 3,
   "id": "5ee17258-75de-4cae-bfa0-ae2a9d3fa53d",
   "metadata": {},
   "outputs": [
    {
     "name": "stdout",
     "output_type": "stream",
     "text": [
      "150\n",
      "metapod\n",
      "CPU times: user 1.84 s, sys: 158 ms, total: 2 s\n",
      "Wall time: 3.07 s\n"
     ]
    }
   ],
   "source": [
    "%%time\n",
    "#Multithreading\n",
    "\n",
    "#Create a function that will parallelized\n",
    "def request_pokemon(number:int) -> str:\n",
    "    response = requests.get(f'https://pokeapi.co/api/v2/pokemon/{number}')\n",
    "    return response.json().get('name')\n",
    "\n",
    "#Set a threadpoool executor with 6 cores and run the function for the list of parameters\n",
    "with concurrent.futures.ThreadPoolExecutor(max_workers=6) as executor:\n",
    "    res = [executor.submit(request_pokemon, number) for number in range(1, 151)]\n",
    "    concurrent.futures.wait(res)\n",
    "    pokemons_parallel = [r.result() for r in res] #Gather up the results in a list\n",
    "    \n",
    "print(len(pokemons_parallel))\n",
    "print(pokemons_parallel[10])"
   ]
  },
  {
   "cell_type": "code",
   "execution_count": 4,
   "id": "8a9c2f54-6f71-49b7-b898-06d8284ac799",
   "metadata": {},
   "outputs": [
    {
     "name": "stdout",
     "output_type": "stream",
     "text": [
      "150\n",
      "metapod\n",
      "CPU times: user 522 ms, sys: 42.5 ms, total: 564 ms\n",
      "Wall time: 1.53 s\n"
     ]
    }
   ],
   "source": [
    "%%time\n",
    "#Async processing\n",
    "#We are using nest asyncio to be able to run it on jupyter notebook: \n",
    "#https://github.com/erdewit/nest_asyncio\n",
    "pokemons_async = []\n",
    "\n",
    "async def get_pokemon(session, url):\n",
    "    async with session.get(url) as resp:\n",
    "        pokemon = await resp.json()\n",
    "        return pokemon.get('name')\n",
    "\n",
    "async def main():\n",
    "    async with aiohttp.ClientSession() as session:\n",
    "        tasks = []\n",
    "        for number in range(1, 151):\n",
    "            url = f'https://pokeapi.co/api/v2/pokemon/{number}'\n",
    "            tasks.append(asyncio.ensure_future(get_pokemon(session, url)))\n",
    "        original_pokemon = await asyncio.gather(*tasks)\n",
    "        for pokemon in original_pokemon:\n",
    "            pokemons_async.append(pokemon)\n",
    "\n",
    "asyncio.run(main())\n",
    "\n",
    "print(len(pokemons_async))\n",
    "print(pokemons_async[10])"
   ]
  }
 ],
 "metadata": {
  "kernelspec": {
   "display_name": "Python 3 (ipykernel)",
   "language": "python",
   "name": "python3"
  },
  "language_info": {
   "codemirror_mode": {
    "name": "ipython",
    "version": 3
   },
   "file_extension": ".py",
   "mimetype": "text/x-python",
   "name": "python",
   "nbconvert_exporter": "python",
   "pygments_lexer": "ipython3",
   "version": "3.9.9"
  }
 },
 "nbformat": 4,
 "nbformat_minor": 5
}
